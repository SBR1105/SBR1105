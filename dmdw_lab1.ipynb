{
  "nbformat": 4,
  "nbformat_minor": 0,
  "metadata": {
    "colab": {
      "name": "dmdw lab1.ipynb",
      "provenance": [],
      "include_colab_link": true
    },
    "kernelspec": {
      "name": "python3",
      "display_name": "Python 3"
    },
    "language_info": {
      "name": "python"
    }
  },
  "cells": [
    {
      "cell_type": "markdown",
      "metadata": {
        "id": "view-in-github",
        "colab_type": "text"
      },
      "source": [
        "<a href=\"https://colab.research.google.com/github/satyabratarath11/SBR1105/blob/main/dmdw_lab1.ipynb\" target=\"_parent\"><img src=\"https://colab.research.google.com/assets/colab-badge.svg\" alt=\"Open In Colab\"/></a>"
      ]
    },
    {
      "cell_type": "code",
      "metadata": {
        "id": "qJB1DptAVZvq"
      },
      "source": [
        "import numpy"
      ],
      "execution_count": null,
      "outputs": []
    },
    {
      "cell_type": "code",
      "metadata": {
        "id": "LiiTOMhgL9oK"
      },
      "source": [
        "x = [1, 2, 3, 6, 5, 4, 9, 8, 7, 5, 5, 6, ]"
      ],
      "execution_count": null,
      "outputs": []
    },
    {
      "cell_type": "code",
      "metadata": {
        "id": "McrPV8hzNP9j"
      },
      "source": [
        "mean = sum(x)/len(x)"
      ],
      "execution_count": null,
      "outputs": []
    },
    {
      "cell_type": "code",
      "metadata": {
        "id": "Kb5GpyeoNx4Z"
      },
      "source": [
        "if len(x) ==0:\n",
        "  median1 = x[len(x)//2]\n",
        "  median2 = x[len(x)//2 - 1]\n",
        "  median = (median1 + median2)/2\n",
        "else:\n",
        "  median = x[len(x)//2]\n"
      ],
      "execution_count": null,
      "outputs": []
    },
    {
      "cell_type": "code",
      "metadata": {
        "id": "YsKdo3xqP2md"
      },
      "source": [
        "x.sort()\n",
        "y=[]\n",
        "i=0\n",
        "while i<len(x):\n",
        "  y.append(x.count(x[i]))\n",
        "  i+=1\n",
        "\n",
        "d1 = dict(zip(x,y))\n",
        "mode = {k for (k,v) in d1.items() if v == max(y)}\n"
      ],
      "execution_count": null,
      "outputs": []
    },
    {
      "cell_type": "code",
      "metadata": {
        "id": "mvWPOLEIRxDy"
      },
      "source": [
        "variance = sum([((n - mean)**2)for n in x])/len(x)\n",
        "SD = variance**0.5"
      ],
      "execution_count": null,
      "outputs": []
    },
    {
      "cell_type": "code",
      "metadata": {
        "colab": {
          "base_uri": "https://localhost:8080/"
        },
        "id": "m-515a7MTpTv",
        "outputId": "bc7de309-dc15-4672-acdb-317b1c9f7c47"
      },
      "source": [
        "print(\"mean:\" +str(mean))\n",
        "print(\"median:\" +str(median))\n",
        "print(\"mode:\" +str(mode))\n",
        "print(\"SD:\" +str(SD))\n",
        "print(\"variance:\" +str(variance))\n"
      ],
      "execution_count": null,
      "outputs": [
        {
          "output_type": "stream",
          "name": "stdout",
          "text": [
            "mean:5.083333333333333\n",
            "median:9\n",
            "mode:{5}\n",
            "SD:2.253084305765962\n",
            "variance:5.076388888888888\n"
          ]
        }
      ]
    },
    {
      "cell_type": "code",
      "metadata": {
        "colab": {
          "base_uri": "https://localhost:8080/"
        },
        "id": "gB5wNKlPT6M5",
        "outputId": "d09d2240-c775-4a10-86d5-71e319568bc9"
      },
      "source": [
        "mean = numpy.mean(x)\n",
        "median = numpy.median(x)\n",
        "SD = numpy.std(x)\n",
        "variance = numpy.var(x)\n",
        "print(mean)\n",
        "print(median)\n",
        "print(SD)\n",
        "print(variance)"
      ],
      "execution_count": null,
      "outputs": [
        {
          "output_type": "stream",
          "name": "stdout",
          "text": [
            "5.083333333333333\n",
            "5.0\n",
            "2.253084305765962\n",
            "5.076388888888888\n"
          ]
        }
      ]
    },
    {
      "cell_type": "code",
      "metadata": {
        "id": "yz3osFuWWGs4"
      },
      "source": [
        ""
      ],
      "execution_count": null,
      "outputs": []
    }
  ]
}